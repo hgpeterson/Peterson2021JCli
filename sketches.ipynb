{
 "cells": [
  {
   "cell_type": "markdown",
   "metadata": {},
   "source": [
    "# Create Sketch for Paper"
   ]
  },
  {
   "cell_type": "markdown",
   "metadata": {},
   "source": [
    "## packages"
   ]
  },
  {
   "cell_type": "code",
   "execution_count": null,
   "metadata": {},
   "outputs": [],
   "source": [
    "# imports\n",
    "import numpy as np\n",
    "import matplotlib.pyplot as plt\n",
    "from matplotlib.lines import Line2D\n",
    "from scipy.special import gammaincinv, digamma\n",
    "\n",
    "# my lib\n",
    "from importlib import reload\n",
    "import cmip6_lib"
   ]
  },
  {
   "cell_type": "code",
   "execution_count": null,
   "metadata": {},
   "outputs": [],
   "source": [
    "# if you changed something in cmip6_lib.py\n",
    "reload(cmip6_lib)"
   ]
  },
  {
   "cell_type": "code",
   "execution_count": null,
   "metadata": {},
   "outputs": [],
   "source": [
    "\"\"\"\n",
    "    precip = get_precip(pctls, k, θ)\n",
    "    \n",
    "Get ammount of precipitation at given percentile for Gamma distribution defined by k and θ.\n",
    "\"\"\"\n",
    "def get_precip(pctls, k, θ):\n",
    "    return θ*gammaincinv(k, pctls)"
   ]
  },
  {
   "cell_type": "markdown",
   "metadata": {},
   "source": [
    "## Perterbation Coefficients"
   ]
  },
  {
   "cell_type": "code",
   "execution_count": null,
   "metadata": {},
   "outputs": [],
   "source": [
    "# pctls to use\n",
    "pctl_min = 0.09\n",
    "pctl_max = 0.9999\n",
    "N = 1000\n",
    "pctls = cmip6_lib.inv_x_transform(np.linspace(cmip6_lib.x_transform(pctl_min), cmip6_lib.x_transform(pctl_max), N))\n",
    "\n",
    "# basic state\n",
    "μ = 2\n",
    "σ = 6\n",
    "k, θ = cmip6_lib.gamma_moments(μ, σ)\n",
    "print(k, θ)\n",
    "P = get_precip(pctls, k, θ)\n",
    "\n",
    "# coefficients\n",
    "ck_large_P = k*θ/P*(np.log(P/θ) - digamma(k))\n",
    "ck_small_P = digamma(k) + np.log(θ/P) + 1/k\n",
    "cθ_large_P = np.ones(P.shape)\n",
    "cθ_small_P = np.ones(P.shape)\n",
    "\n",
    "# exact change \n",
    "# cθ = (δP/P)/(δθ/θ)\n",
    "δθ = 0.01*θ\n",
    "P_prime = get_precip(pctls, k, θ + δθ)\n",
    "cθ_exact = ((P_prime - P)/P)/(δθ/θ)\n",
    "# ck = (δP/P)/(δk/k)\n",
    "δk = 0.01*k\n",
    "P_prime = get_precip(pctls, k + δk, θ)\n",
    "ck_exact = ((P_prime - P)/P)/(δk/k)\n",
    "\n",
    "# plot\n",
    "fig, ax = plt.subplots(1)\n",
    "cmip6_lib.fix_xticks(ax)\n",
    "\n",
    "nskip = int(N/35)\n",
    "ms = 2\n",
    "ax.plot(cmip6_lib.x_transform(pctls), cθ_exact, c=\"tab:blue\", ls=\"-\", label=\"$c_\\\\theta$\")\n",
    "ax.plot(cmip6_lib.x_transform(pctls), cθ_large_P, c=\"tab:blue\", ls=\"-\", label=\"$c_\\\\theta$ large $P$\")\n",
    "ax.plot(cmip6_lib.x_transform(pctls)[int(nskip/2)::nskip], cθ_large_P[int(nskip/2)::nskip], c=\"tab:blue\", ls=\"\", marker=\"o\", ms=ms, label=\"$c_\\\\theta$ large $P$\")\n",
    "ax.plot(cmip6_lib.x_transform(pctls), ck_exact,   c=\"tab:orange\", ls=\"-\", label=\"$c_k$\")\n",
    "ax.plot(cmip6_lib.x_transform(pctls), ck_large_P, c=\"tab:orange\", ls=\"--\", label=\"$c_k$ large $P$\")\n",
    "ax.annotate(\"$\\\\frac{\\\\delta P}{P} = c_\\\\theta\\\\frac{\\\\delta\\\\theta}{\\\\theta} + c_k\\\\frac{\\\\delta k}{k}$\", [0.5, 0.5], xycoords=\"axes fraction\", size=9)\n",
    "ax.axhline(0, ls=\"-\", c=\"k\", lw=0.5)\n",
    "\n",
    "custom_handles = [Line2D([0], [0], ls=\"-\", c=\"tab:blue\"),\n",
    "                 Line2D([0], [0],  marker=\"o\", ms=ms, ls=\"-\", c=\"tab:blue\"),\n",
    "                 Line2D([0], [0],  ls=\"-\", c=\"tab:orange\"),\n",
    "                 Line2D([0], [0],  ls=\"--\", c=\"tab:orange\")]\n",
    "custom_labels = [\"$c_\\\\theta$\", \"$c_\\\\theta$ large $P$\", \"$c_k$\", \"$c_k$ large $P$\"]\n",
    "ax.legend(custom_handles, custom_labels, loc=\"upper right\", ncol=2)\n",
    "ax.set_xlabel(\"Percentile\")\n",
    "ax.set_ylabel(\"Coefficient\")\n",
    "ax.set_ylim([-1, 12])\n",
    "plt.tight_layout()\n",
    "plt.savefig(\"theory.png\")\n",
    "plt.savefig(\"theory.pdf\")"
   ]
  },
  {
   "cell_type": "code",
   "execution_count": null,
   "metadata": {},
   "outputs": [],
   "source": [
    "# percentile where P > θ\n",
    "100*pctls[np.where(P > θ)][0]"
   ]
  },
  {
   "cell_type": "markdown",
   "metadata": {},
   "source": [
    "## Sketch Plot"
   ]
  },
  {
   "cell_type": "code",
   "execution_count": null,
   "metadata": {},
   "outputs": [],
   "source": [
    "# pctls to use\n",
    "pctl_min = 0.09\n",
    "pctl_max = 0.9999\n",
    "pctls = cmip6_lib.inv_x_transform(np.linspace(cmip6_lib.x_transform(pctl_min), cmip6_lib.x_transform(pctl_max), 100))\n",
    "\n",
    "# basic state\n",
    "μ_c = 2\n",
    "σ_c = 6\n",
    "k_c, θ_c = cmip6_lib.gamma_moments(μ_c, σ_c)\n",
    "precip_c = get_precip(pctls, k_c, θ_c)\n",
    "\n",
    "# pretend warming\n",
    "ΔT = 5\n",
    "\n",
    "# shift mean only\n",
    "mean_scaling = 0.02*ΔT\n",
    "extreme_scaling = 0.0*ΔT\n",
    "θ_mean = θ_c*(1 + extreme_scaling)\n",
    "k_mean = k_c*(1 + mean_scaling - extreme_scaling)\n",
    "precip_mean = get_precip(pctls, k_mean, θ_mean)\n",
    "ratio_mean = 100*(precip_mean/precip_c - 1)\n",
    "\n",
    "# shift extremes only\n",
    "mean_scaling = 0.0*ΔT\n",
    "extreme_scaling = 0.07*ΔT\n",
    "θ_extreme = θ_c*(1 + extreme_scaling)\n",
    "k_extreme = k_c*(1 + mean_scaling - extreme_scaling)\n",
    "precip_extreme = get_precip(pctls, k_extreme, θ_extreme)\n",
    "ratio_extreme = 100*(precip_extreme/precip_c - 1)\n",
    "\n",
    "# shift both\n",
    "mean_scaling = 0.02*ΔT\n",
    "extreme_scaling = 0.07*ΔT\n",
    "θ_both = θ_c*(1 + extreme_scaling)\n",
    "k_both = k_c*(1 + mean_scaling - extreme_scaling)\n",
    "precip_both = get_precip(pctls, k_both, θ_both)\n",
    "ratio_both = 100*(precip_both/precip_c - 1)"
   ]
  },
  {
   "cell_type": "code",
   "execution_count": null,
   "metadata": {},
   "outputs": [],
   "source": [
    "# setup plot\n",
    "fig, ax = plt.subplots(1, figsize=(3.404, 3.404/1.62+0.4))\n",
    "axtwin = cmip6_lib.setup_pctl_plot(ax)\n",
    "\n",
    "# plot\n",
    "ax.plot(cmip6_lib.x_transform(pctls), cmip6_lib.y_transform(precip_c), c=\"tab:blue\", label=\"control\")\n",
    "ax.plot(cmip6_lib.x_transform(pctls), cmip6_lib.y_transform(precip_mean), c=\"tab:orange\", ls=\"--\", label=\"mean shift\")\n",
    "ax.plot(cmip6_lib.x_transform(pctls), cmip6_lib.y_transform(precip_extreme), c=\"tab:orange\", ls=\":\", label=\"extremes shift\")\n",
    "ax.plot(cmip6_lib.x_transform(pctls), cmip6_lib.y_transform(precip_both), c=\"tab:orange\", ls=\"-\", label=\"both\")\n",
    "\n",
    "# ratios\n",
    "axtwin.plot(cmip6_lib.x_transform(pctls), ratio_mean/ΔT, c=\"tab:green\", ls=\"--\")\n",
    "axtwin.plot(cmip6_lib.x_transform(pctls), ratio_extreme/ΔT, c=\"tab:green\", ls=\":\")\n",
    "axtwin.plot(cmip6_lib.x_transform(pctls), ratio_both/ΔT, c=\"tab:green\", ls=\"-\")\n",
    "\n",
    "custom_lines = [Line2D([0], [0], ls=\"-\", c=\"tab:blue\"),\n",
    "               Line2D([0], [0], ls=\"--\", c=\"k\"),\n",
    "               Line2D([0], [0], ls=\"-\", c=\"tab:orange\"),\n",
    "               Line2D([0], [0], ls=\":\", c=\"k\"),                \n",
    "               Line2D([0], [0], ls=\"-\", c=\"tab:green\"),\n",
    "               Line2D([0], [0], ls=\"-\", c=\"k\")\n",
    "               ]\n",
    "custom_handles = [\"control\", \"mean shift\", \"warming\", \"extremes shift\", \"ratio\", \"both\"]\n",
    "ax.legend(custom_lines, custom_handles, loc=(0, 1.1), ncol=3)\n",
    "ax.set_xlabel(\"Percentile\")\n",
    "ax.set_ylabel(\"Precipitation (mm day$^{-1}$)\")    \n",
    "axtwin.set_ylabel(\"Change (\\% K$^{-1}$)\", c=\"tab:green\")\n",
    "\n",
    "plt.tight_layout()\n",
    "fig.savefig(\"sketch.png\")\n",
    "fig.savefig(\"sketch.pdf\")"
   ]
  },
  {
   "cell_type": "code",
   "execution_count": null,
   "metadata": {},
   "outputs": [],
   "source": []
  }
 ],
 "metadata": {
  "kernelspec": {
   "display_name": "Python 3",
   "language": "python",
   "name": "python3"
  },
  "language_info": {
   "codemirror_mode": {
    "name": "ipython",
    "version": 3
   },
   "file_extension": ".py",
   "mimetype": "text/x-python",
   "name": "python",
   "nbconvert_exporter": "python",
   "pygments_lexer": "ipython3",
   "version": "3.7.7"
  }
 },
 "nbformat": 4,
 "nbformat_minor": 4
}
